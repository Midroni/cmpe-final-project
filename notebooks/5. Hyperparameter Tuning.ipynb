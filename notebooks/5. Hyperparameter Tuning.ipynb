{
 "cells": [
  {
   "cell_type": "markdown",
   "metadata": {},
   "source": [
    "# 5. Hyperparameter Tuning"
   ]
  },
  {
   "cell_type": "code",
   "execution_count": 1,
   "metadata": {},
   "outputs": [],
   "source": [
    "import pandas as pd\n",
    "import numpy as np\n",
    "import xgboost as xgb\n",
    "import sklearn"
   ]
  },
  {
   "cell_type": "code",
   "execution_count": 2,
   "metadata": {},
   "outputs": [],
   "source": [
    "#Read in the dataframes\n",
    "feat_df = pd.read_pickle('../data/features_df.pkl')\n",
    "meta_df = pd.read_csv('../data/speechdetails.csv')\n",
    "\n",
    "#Removes all the text that was in before\n",
    "feat_df = feat_df.select_dtypes(exclude=['object'])\n",
    "\n",
    "#Isolate predictive (X) and target (y) variables\n",
    "X = feat_df.values\n",
    "y = meta_df['IC'].values\n",
    "\n",
    "#Implement train test split\n",
    "from sklearn.model_selection import train_test_split\n",
    "X_train, X_test, y_train, y_test = train_test_split(X,y, \n",
    "                                                    test_size=0.2,\n",
    "                                                    random_state=11)"
   ]
  },
  {
   "cell_type": "markdown",
   "metadata": {},
   "source": [
    "## XGBoost"
   ]
  },
  {
   "cell_type": "code",
   "execution_count": 3,
   "metadata": {},
   "outputs": [],
   "source": [
    "params = {\"learning_rate\"    : [0.05, 0.10, 0.15, 0.20, 0.25, 0.30 ] ,\n",
    " \"max_depth\"        : [ 3, 4, 5, 6, 8, 10, 12, 15],\n",
    " \"min_child_weight\" : [ 1, 3, 5, 7 ],\n",
    " \"gamma\"            : [ 0.0, 0.1, 0.2 , 0.3, 0.4 ],\n",
    " \"alpha\"            : [ 0.0, 0.1, 0.2 , 0.3, 0.4 ],\n",
    " \"colsample_bytree\" : [ 0.3, 0.4, 0.5 , 0.7 ],\n",
    " \"grow_policy\"      : ['depthwise','lossguide'] }"
   ]
  },
  {
   "cell_type": "code",
   "execution_count": 4,
   "metadata": {},
   "outputs": [],
   "source": [
    "grid_search_dict =  {\"learning_rate\"    : list() ,\n",
    " \"max_depth\"        : list(),\n",
    " \"min_child_weight\" : list(),\n",
    " \"gamma\"            : list(),\n",
    " \"colsample_bytree\" : list(),\n",
    " \"rmse\" : list()}"
   ]
  },
  {
   "cell_type": "code",
   "execution_count": 8,
   "metadata": {},
   "outputs": [],
   "source": [
    "for lr in params['learning_rate']:\n",
    "    for md in params['max_depth']:\n",
    "        for cw in params['min_child_weight']:\n",
    "            for g in params['gamma']:\n",
    "                for cbt in params['colsample_bytree']:\n",
    "                    grid_search_dict['learning_rate'].append(lr)\n",
    "                    grid_search_dict['max_depth'].append(md)\n",
    "                    grid_search_dict['min_child_weight'].append(cw)\n",
    "                    grid_search_dict['gamma'].append(g)\n",
    "                    grid_search_dict['colsample_bytree'].append(cbt)\n",
    "                    \n",
    "                    xg_reg = xgb.XGBRegressor(objective ='reg:linear', colsample_bytree = 0.3, learning_rate = 0.1,\n",
    "                    max_depth = 5, alpha = 10, n_estimators = 30)\n",
    "\n",
    "                    xg_reg.fit(X_train, y_train)\n",
    "\n",
    "                    preds = xg_reg.predict(X_test)\n",
    "                    grid_search_dict['rmse'].append(np.sqrt(metrics.mean_squared_error(y_test, preds)))\n"
   ]
  },
  {
   "cell_type": "code",
   "execution_count": 11,
   "metadata": {},
   "outputs": [],
   "source": [
    "df = pd.DataFrame().from_dict(grid_search_dict)"
   ]
  },
  {
   "cell_type": "code",
   "execution_count": 16,
   "metadata": {},
   "outputs": [],
   "source": [
    "df = pd.read_pickle('../data/hp_tune_xgboost.pkl')"
   ]
  },
  {
   "cell_type": "code",
   "execution_count": 20,
   "metadata": {},
   "outputs": [
    {
     "data": {
      "text/plain": [
       "38400"
      ]
     },
     "execution_count": 20,
     "metadata": {},
     "output_type": "execute_result"
    }
   ],
   "source": [
    "len(df)"
   ]
  },
  {
   "cell_type": "code",
   "execution_count": null,
   "metadata": {},
   "outputs": [],
   "source": [
    "optimal_params = {\"learning_rate\" : 0.1,\n",
    " \"max_depth\"        : 3,\n",
    " \"min_child_weight\" : 1,\n",
    " \"gamma\"            : 0,\n",
    " \"alpha\"            : [ 0.0, 0.1, 0.2 , 0.3, 0.4 ],\n",
    " \"colsample_bytree\" : 0.3,\n",
    " \"grow_policy\"      : ['depthwise','lossguide']}"
   ]
  },
  {
   "cell_type": "code",
   "execution_count": 22,
   "metadata": {},
   "outputs": [
    {
     "data": {
      "text/html": [
       "<div>\n",
       "<style scoped>\n",
       "    .dataframe tbody tr th:only-of-type {\n",
       "        vertical-align: middle;\n",
       "    }\n",
       "\n",
       "    .dataframe tbody tr th {\n",
       "        vertical-align: top;\n",
       "    }\n",
       "\n",
       "    .dataframe thead th {\n",
       "        text-align: right;\n",
       "    }\n",
       "</style>\n",
       "<table border=\"1\" class=\"dataframe\">\n",
       "  <thead>\n",
       "    <tr style=\"text-align: right;\">\n",
       "      <th></th>\n",
       "      <th>learning_rate</th>\n",
       "      <th>max_depth</th>\n",
       "      <th>min_child_weight</th>\n",
       "      <th>gamma</th>\n",
       "      <th>alpha</th>\n",
       "      <th>colsample_bytree</th>\n",
       "      <th>grow_policy</th>\n",
       "      <th>rmse</th>\n",
       "    </tr>\n",
       "  </thead>\n",
       "  <tbody>\n",
       "    <tr>\n",
       "      <th>6416</th>\n",
       "      <td>0.1</td>\n",
       "      <td>3</td>\n",
       "      <td>1</td>\n",
       "      <td>0.0</td>\n",
       "      <td>0.2</td>\n",
       "      <td>0.3</td>\n",
       "      <td>depthwise</td>\n",
       "      <td>0.327255</td>\n",
       "    </tr>\n",
       "    <tr>\n",
       "      <th>6424</th>\n",
       "      <td>0.1</td>\n",
       "      <td>3</td>\n",
       "      <td>1</td>\n",
       "      <td>0.0</td>\n",
       "      <td>0.3</td>\n",
       "      <td>0.3</td>\n",
       "      <td>depthwise</td>\n",
       "      <td>0.327255</td>\n",
       "    </tr>\n",
       "    <tr>\n",
       "      <th>6425</th>\n",
       "      <td>0.1</td>\n",
       "      <td>3</td>\n",
       "      <td>1</td>\n",
       "      <td>0.0</td>\n",
       "      <td>0.3</td>\n",
       "      <td>0.3</td>\n",
       "      <td>lossguide</td>\n",
       "      <td>0.327255</td>\n",
       "    </tr>\n",
       "    <tr>\n",
       "      <th>6409</th>\n",
       "      <td>0.1</td>\n",
       "      <td>3</td>\n",
       "      <td>1</td>\n",
       "      <td>0.0</td>\n",
       "      <td>0.1</td>\n",
       "      <td>0.3</td>\n",
       "      <td>lossguide</td>\n",
       "      <td>0.327255</td>\n",
       "    </tr>\n",
       "    <tr>\n",
       "      <th>6432</th>\n",
       "      <td>0.1</td>\n",
       "      <td>3</td>\n",
       "      <td>1</td>\n",
       "      <td>0.0</td>\n",
       "      <td>0.4</td>\n",
       "      <td>0.3</td>\n",
       "      <td>depthwise</td>\n",
       "      <td>0.327255</td>\n",
       "    </tr>\n",
       "  </tbody>\n",
       "</table>\n",
       "</div>"
      ],
      "text/plain": [
       "      learning_rate  max_depth  min_child_weight  gamma  alpha  \\\n",
       "6416            0.1          3                 1    0.0    0.2   \n",
       "6424            0.1          3                 1    0.0    0.3   \n",
       "6425            0.1          3                 1    0.0    0.3   \n",
       "6409            0.1          3                 1    0.0    0.1   \n",
       "6432            0.1          3                 1    0.0    0.4   \n",
       "\n",
       "      colsample_bytree grow_policy      rmse  \n",
       "6416               0.3   depthwise  0.327255  \n",
       "6424               0.3   depthwise  0.327255  \n",
       "6425               0.3   lossguide  0.327255  \n",
       "6409               0.3   lossguide  0.327255  \n",
       "6432               0.3   depthwise  0.327255  "
      ]
     },
     "execution_count": 22,
     "metadata": {},
     "output_type": "execute_result"
    }
   ],
   "source": [
    "df.sort_values('rmse',ascending=True).head()"
   ]
  },
  {
   "cell_type": "markdown",
   "metadata": {},
   "source": [
    "## Sequential Model"
   ]
  },
  {
   "cell_type": "code",
   "execution_count": 23,
   "metadata": {},
   "outputs": [],
   "source": [
    "df = pd.read_pickle('../data/hp_tune_sequential.pkl')"
   ]
  },
  {
   "cell_type": "code",
   "execution_count": 24,
   "metadata": {},
   "outputs": [
    {
     "data": {
      "text/plain": [
       "216"
      ]
     },
     "execution_count": 24,
     "metadata": {},
     "output_type": "execute_result"
    }
   ],
   "source": [
    "len(df)"
   ]
  },
  {
   "cell_type": "code",
   "execution_count": 25,
   "metadata": {},
   "outputs": [
    {
     "data": {
      "text/html": [
       "<div>\n",
       "<style scoped>\n",
       "    .dataframe tbody tr th:only-of-type {\n",
       "        vertical-align: middle;\n",
       "    }\n",
       "\n",
       "    .dataframe tbody tr th {\n",
       "        vertical-align: top;\n",
       "    }\n",
       "\n",
       "    .dataframe thead th {\n",
       "        text-align: right;\n",
       "    }\n",
       "</style>\n",
       "<table border=\"1\" class=\"dataframe\">\n",
       "  <thead>\n",
       "    <tr style=\"text-align: right;\">\n",
       "      <th></th>\n",
       "      <th>layer1</th>\n",
       "      <th>layer2</th>\n",
       "      <th>layer3</th>\n",
       "      <th>layer4</th>\n",
       "      <th>epochs</th>\n",
       "      <th>optimizer</th>\n",
       "      <th>losses</th>\n",
       "      <th>rmse</th>\n",
       "    </tr>\n",
       "  </thead>\n",
       "  <tbody>\n",
       "    <tr>\n",
       "      <th>149</th>\n",
       "      <td>4</td>\n",
       "      <td>16</td>\n",
       "      <td>8</td>\n",
       "      <td>8</td>\n",
       "      <td>150</td>\n",
       "      <td>RMSprop</td>\n",
       "      <td>mse</td>\n",
       "      <td>0.336585</td>\n",
       "    </tr>\n",
       "    <tr>\n",
       "      <th>151</th>\n",
       "      <td>4</td>\n",
       "      <td>16</td>\n",
       "      <td>8</td>\n",
       "      <td>4</td>\n",
       "      <td>150</td>\n",
       "      <td>adam</td>\n",
       "      <td>mse</td>\n",
       "      <td>0.336976</td>\n",
       "    </tr>\n",
       "    <tr>\n",
       "      <th>143</th>\n",
       "      <td>8</td>\n",
       "      <td>4</td>\n",
       "      <td>4</td>\n",
       "      <td>4</td>\n",
       "      <td>150</td>\n",
       "      <td>RMSprop</td>\n",
       "      <td>mse</td>\n",
       "      <td>0.337028</td>\n",
       "    </tr>\n",
       "    <tr>\n",
       "      <th>203</th>\n",
       "      <td>4</td>\n",
       "      <td>4</td>\n",
       "      <td>8</td>\n",
       "      <td>4</td>\n",
       "      <td>150</td>\n",
       "      <td>RMSprop</td>\n",
       "      <td>mse</td>\n",
       "      <td>0.337248</td>\n",
       "    </tr>\n",
       "    <tr>\n",
       "      <th>53</th>\n",
       "      <td>16</td>\n",
       "      <td>4</td>\n",
       "      <td>8</td>\n",
       "      <td>8</td>\n",
       "      <td>150</td>\n",
       "      <td>RMSprop</td>\n",
       "      <td>mse</td>\n",
       "      <td>0.338083</td>\n",
       "    </tr>\n",
       "  </tbody>\n",
       "</table>\n",
       "</div>"
      ],
      "text/plain": [
       "     layer1  layer2  layer3  layer4  epochs optimizer losses      rmse\n",
       "149       4      16       8       8     150   RMSprop    mse  0.336585\n",
       "151       4      16       8       4     150      adam    mse  0.336976\n",
       "143       8       4       4       4     150   RMSprop    mse  0.337028\n",
       "203       4       4       8       4     150   RMSprop    mse  0.337248\n",
       "53       16       4       8       8     150   RMSprop    mse  0.338083"
      ]
     },
     "execution_count": 25,
     "metadata": {},
     "output_type": "execute_result"
    }
   ],
   "source": [
    "df.sort_values('rmse',ascending=True).head()"
   ]
  },
  {
   "cell_type": "code",
   "execution_count": null,
   "metadata": {},
   "outputs": [],
   "source": [
    "optimal_params = {\"layer1\" : 4,\n",
    " \"layer2\" : 16,\n",
    " \"layer3\" : 8,\n",
    " \"layer4\" : 8,\n",
    " \"epochs\" : 150,\n",
    " \"optimizer\" : 'RMSprop',\n",
    " \"losses\"      : 'mse'}"
   ]
  },
  {
   "cell_type": "code",
   "execution_count": null,
   "metadata": {},
   "outputs": [],
   "source": [
    "params = {\n",
    "     'layer1' : [16, 8, 4],\n",
    "     'layer2' : [16, 8, 4],\n",
    "     'layer3' : [8, 4],\n",
    "     'layer4' : [8, 4],\n",
    "     'epochs': [150],\n",
    "     'optimizer': ['adam', 'adagrad','RMSprop'],\n",
    "     'losses': ['binary_crossentropy','mse']}"
   ]
  }
 ],
 "metadata": {
  "kernelspec": {
   "display_name": "Python 3",
   "language": "python",
   "name": "python3"
  },
  "language_info": {
   "codemirror_mode": {
    "name": "ipython",
    "version": 3
   },
   "file_extension": ".py",
   "mimetype": "text/x-python",
   "name": "python",
   "nbconvert_exporter": "python",
   "pygments_lexer": "ipython3",
   "version": "3.7.3"
  }
 },
 "nbformat": 4,
 "nbformat_minor": 2
}
